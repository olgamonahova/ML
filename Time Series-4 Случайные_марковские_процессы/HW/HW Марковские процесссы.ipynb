{
 "cells": [
  {
   "cell_type": "code",
   "execution_count": 1,
   "metadata": {
    "ExecuteTime": {
     "end_time": "2019-04-27T11:43:29.153634Z",
     "start_time": "2019-04-27T11:43:28.347348Z"
    }
   },
   "outputs": [],
   "source": [
    "import numpy as np\n",
    "import re\n",
    "import matplotlib.pyplot as plt\n",
    "import seaborn as sns\n",
    "import pandas as pd\n",
    "%matplotlib inline\n",
    "sns.set()"
   ]
  },
  {
   "cell_type": "markdown",
   "metadata": {},
   "source": [
    "### Задание"
   ]
  },
  {
   "cell_type": "markdown",
   "metadata": {},
   "source": [
    "1) Скачайте текст войны и мир. Очистите его, оставив только русские буквы и символы пробела. Постройте матрицу переходных вероятностей.\n",
    "\n",
    "2) Посчитайте вероятность встретить строку из 4-х символов, которая начинается п, а кончается на р; \n",
    "\n",
    "3) Используя матрицу переходных вероятностей сгенерируйте слово, начинающееся с буквы \"Б\" и имеющее длину 8-мь символов\n",
    "\n",
    "4) Возьмите ряд и оцените его через HMM. Попробуйте \"построить\" (через среднее каждой компоненты) наивный прогноз ряда."
   ]
  },
  {
   "cell_type": "markdown",
   "metadata": {},
   "source": [
    "1) Скачайте текст войны и мир. Очистите его, оставив только русские буквы и символы пробела. Постройте матрицу переходных вероятностей."
   ]
  },
  {
   "cell_type": "code",
   "execution_count": 16,
   "metadata": {
    "ExecuteTime": {
     "end_time": "2019-04-27T11:43:33.459547Z",
     "start_time": "2019-04-27T11:43:33.434843Z"
    }
   },
   "outputs": [],
   "source": [
    "# Война и мир\n",
    "with open('War_and_Peace.txt', 'r', encoding='koi8-r') as f:\n",
    "    text_ru = f.read().lower()\n",
    "text_ru = re.sub('[^а-я]','', text_ru)"
   ]
  },
  {
   "cell_type": "code",
   "execution_count": 18,
   "metadata": {
    "ExecuteTime": {
     "end_time": "2019-04-27T11:43:34.370809Z",
     "start_time": "2019-04-27T11:43:33.903149Z"
    }
   },
   "outputs": [],
   "source": [
    "RUSSIAN = 'абвгдежзийклмнопрстуфхцчшщъыьэюя'\n",
    "POS_RU = {l: i for i, l in enumerate(RUSSIAN)}\n",
    "\n",
    "probabilities_ru = np.zeros((len(RUSSIAN), len(RUSSIAN)))\n",
    "\n",
    "for cp, cn in zip(text_ru[:-1], text_ru[1:]):\n",
    "    probabilities_ru[POS_RU[cp], POS_RU[cn]] += 1\n",
    "  \n",
    "# Матрица переходных вероятностей\n",
    "probabilities_ru = (probabilities_ru / probabilities_ru.sum(axis=1)[:, None])"
   ]
  },
  {
   "cell_type": "markdown",
   "metadata": {},
   "source": [
    "2) Посчитайте вероятность встретить строку из 4-х символов, которая начинается п, а кончается на р;"
   ]
  },
  {
   "cell_type": "code",
   "execution_count": 30,
   "metadata": {
    "ExecuteTime": {
     "end_time": "2019-04-27T11:56:19.569360Z",
     "start_time": "2019-04-27T11:56:19.561730Z"
    }
   },
   "outputs": [
    {
     "name": "stdout",
     "output_type": "stream",
     "text": [
      "Суммарная вероятность для строки из 4-х символов с началом на \"п\" и окончанием на \"р\": 0.0015764\n"
     ]
    }
   ],
   "source": [
    "proba_sum = 0\n",
    "start = POS_RU['п']\n",
    "end = POS_RU['р']\n",
    "prior = 1. / len(RUSSIAN)\n",
    "for c in RUSSIAN:\n",
    "    for cc in RUSSIAN:\n",
    "        proba = prior * probabilities_ru[start, POS_RU[c]]* probabilities_ru[POS_RU[c],POS_RU[cc]]* probabilities_ru[POS_RU[cc], end]\n",
    "        proba_sum += proba\n",
    "            \n",
    "print(f'Суммарная вероятность для строки из 4-х символов с началом на \"п\" и окончанием на \"р\": {proba_sum:0.5}')"
   ]
  },
  {
   "cell_type": "markdown",
   "metadata": {},
   "source": [
    "3) Используя матрицу переходных вероятностей сгенерируйте слово, начинающееся с буквы \"Б\" и имеющее длину 8-мь символов"
   ]
  },
  {
   "cell_type": "code",
   "execution_count": 40,
   "metadata": {},
   "outputs": [
    {
     "name": "stdout",
     "output_type": "stream",
     "text": [
      "бшияремюк\n"
     ]
    }
   ],
   "source": [
    "s = ['б']\n",
    "length = 8\n",
    "\n",
    "for i in range(length):\n",
    "    index = POS_RU[s[i]]\n",
    "    next_char = np.random.choice(list(RUSSIAN), p=probabilities_ru[index])\n",
    "    s.append(next_char)\n",
    "    \n",
    "print (''.join(s))"
   ]
  },
  {
   "cell_type": "markdown",
   "metadata": {},
   "source": [
    "4) Возьмите ряд и оцените его через HMM. Попробуйте \"построить\" (через среднее каждой компоненты) наивный прогноз ряда."
   ]
  },
  {
   "cell_type": "code",
   "execution_count": 48,
   "metadata": {
    "ExecuteTime": {
     "end_time": "2019-04-27T13:36:03.135387Z",
     "start_time": "2019-04-27T13:36:02.663120Z"
    }
   },
   "outputs": [],
   "source": [
    "from hmmlearn.hmm import GaussianHMM"
   ]
  },
  {
   "cell_type": "code",
   "execution_count": 68,
   "metadata": {},
   "outputs": [],
   "source": [
    "df = pd.read_csv(\"numbers-on-unemployment-benefits.csv\")\n",
    "df.columns = ['Month','Unemployment Benefits']\n",
    "df.dropna(inplace = True)\n",
    "\n",
    "series = df['Unemployment Benefits']"
   ]
  },
  {
   "cell_type": "code",
   "execution_count": 69,
   "metadata": {
    "ExecuteTime": {
     "end_time": "2019-04-27T13:36:08.218886Z",
     "start_time": "2019-04-27T13:36:08.215527Z"
    }
   },
   "outputs": [],
   "source": [
    "values = series.values.reshape(-1,1)"
   ]
  },
  {
   "cell_type": "code",
   "execution_count": 70,
   "metadata": {
    "ExecuteTime": {
     "end_time": "2019-04-27T13:36:16.382451Z",
     "start_time": "2019-04-27T13:36:08.738236Z"
    }
   },
   "outputs": [
    {
     "name": "stdout",
     "output_type": "stream",
     "text": [
      "1 -6052.087693811389\n",
      "2 -5328.153028537578\n",
      "3 -5192.6870192893875\n",
      "4 -5130.695412154105\n",
      "5 -5070.072242563991\n",
      "6 -4940.747278765072\n",
      "7 -4914.212170859738\n",
      "8 -4876.090742539255\n",
      "9 -4850.61113580164\n",
      "10 -4831.928092270658\n",
      "11 -4778.548820159947\n",
      "12 -4761.897744436635\n",
      "13 -4757.257748884429\n"
     ]
    }
   ],
   "source": [
    "for n in range(1, 14):\n",
    "    model = GaussianHMM(n_components=n,\n",
    "                        covariance_type=\"diag\",\n",
    "                        n_iter=1000)\n",
    "    model.fit(values)\n",
    "    print (n, model.score(values))"
   ]
  },
  {
   "cell_type": "code",
   "execution_count": 86,
   "metadata": {
    "ExecuteTime": {
     "end_time": "2019-04-27T13:36:17.383245Z",
     "start_time": "2019-04-27T13:36:16.384825Z"
    },
    "scrolled": true
   },
   "outputs": [
    {
     "data": {
      "text/plain": [
       "[<matplotlib.lines.Line2D at 0x1a14f4ccf8>]"
      ]
     },
     "execution_count": 86,
     "metadata": {},
     "output_type": "execute_result"
    },
    {
     "data": {
      "image/png": "[encoded data removed]",
      "text/plain": [
       "<Figure size 864x432 with 1 Axes>"
      ]
     },
     "metadata": {},
     "output_type": "display_data"
    }
   ],
   "source": [
    "model = GaussianHMM(n_components=11,\n",
    "                        covariance_type=\"diag\",\n",
    "                        n_iter=1000)\n",
    "model.fit(values)\n",
    "labels = model.predict(values)\n",
    "means = np.zeros_like(values)\n",
    "for i in range(model.n_components):\n",
    "    means[labels == i] = model.means_[i]\n",
    "    \n",
    "plt.figure(figsize=(12, 6))\n",
    "plt.plot(values)\n",
    "plt.plot(means, linewidth=3)"
   ]
  },
  {
   "cell_type": "code",
   "execution_count": 110,
   "metadata": {
    "ExecuteTime": {
     "end_time": "2019-04-27T13:44:40.230279Z",
     "start_time": "2019-04-27T13:44:40.225964Z"
    }
   },
   "outputs": [],
   "source": [
    "cur_value = labels[-1]\n",
    "predictions = []\n",
    "for _ in range(20):\n",
    "    cur_value = np.random.choice(11, p=model.transmat_[cur_value])\n",
    "    predictions.append(model.means_[cur_value])"
   ]
  },
  {
   "cell_type": "code",
   "execution_count": 111,
   "metadata": {
    "ExecuteTime": {
     "end_time": "2019-04-27T13:45:25.211903Z",
     "start_time": "2019-04-27T13:45:25.208512Z"
    }
   },
   "outputs": [],
   "source": [
    "new_series = np.concatenate((values, np.array(predictions)))"
   ]
  },
  {
   "cell_type": "code",
   "execution_count": 112,
   "metadata": {
    "ExecuteTime": {
     "end_time": "2019-04-27T13:46:07.774113Z",
     "start_time": "2019-04-27T13:46:07.576677Z"
    }
   },
   "outputs": [
    {
     "data": {
      "image/png": "[encoded data removed]",
      "text/plain": [
       "<Figure size 864x432 with 1 Axes>"
      ]
     },
     "metadata": {},
     "output_type": "display_data"
    }
   ],
   "source": [
    "plt.figure(figsize=(12,6))\n",
    "plt.plot(means, linewidth=3)\n",
    "plt.plot(new_series)\n",
    "plt.plot(values)\n",
    "plt.show()"
   ]
  }
 ],
 "metadata": {
  "kernelspec": {
   "display_name": "Python 3",
   "language": "python",
   "name": "python3"
  },
  "language_info": {
   "codemirror_mode": {
    "name": "ipython",
    "version": 3
   },
   "file_extension": ".py",
   "mimetype": "text/x-python",
   "name": "python",
   "nbconvert_exporter": "python",
   "pygments_lexer": "ipython3",
   "version": "3.6.5"
  }
 },
 "nbformat": 4,
 "nbformat_minor": 2
}
